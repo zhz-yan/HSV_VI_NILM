{
 "cells": [
  {
   "cell_type": "code",
   "execution_count": 46,
   "id": "1ca6736e-006b-4c5f-9c7b-0f894ce429bd",
   "metadata": {
    "tags": []
   },
   "outputs": [],
   "source": [
    "import numpy as np\n",
    "import pandas as pd\n",
    "import json\n",
    "import subprocess\n",
    "import warnings\n",
    "import cv2\n",
    "import torch\n",
    "\n",
    "from tqdm import tqdm\n",
    "from scipy.signal import find_peaks\n",
    "from datetime import datetime\n",
    "\n",
    "from sklearn.model_selection import train_test_split\n",
    "from datetime import datetime\n",
    "from sklearn.metrics import confusion_matrix, classification_report, accuracy_score, precision_score, recall_score, f1_score, roc_auc_score\n",
    "\n",
    "from collections import Counter\n",
    "\n",
    "warnings.filterwarnings('ignore')"
   ]
  },
  {
   "cell_type": "code",
   "execution_count": 2,
   "id": "f639d344-4bcb-4916-a1eb-c43f9ce92010",
   "metadata": {
    "tags": []
   },
   "outputs": [],
   "source": [
    "import os\n",
    "import numpy as np\n",
    "import matplotlib.pyplot as plt\n",
    "%matplotlib inline\n",
    "\n",
    "Data_path = 'D:/datasets/nilm/plaid/PLAID2018/'\n",
    "csv_path = Data_path + 'submetered/'\n",
    "csv_files = os.listdir(csv_path)"
   ]
  },
  {
   "cell_type": "code",
   "execution_count": 3,
   "id": "fc951723-72b9-48f1-a7db-0e3bed0970f6",
   "metadata": {
    "tags": []
   },
   "outputs": [],
   "source": [
    "# functions to read data and meta data\n",
    "def read_data_given_id(path,ids, progress=True,last_offset=0):\n",
    "    '''read data given a list of ids and CSV paths'''\n",
    "    start = datetime.now()\n",
    "    n = len(ids)\n",
    "    if n == 0:\n",
    "        return {}\n",
    "    else:\n",
    "        data = {}\n",
    "        for (i,ist_id) in enumerate(ids, start=1):\n",
    "            if progress and np.mod(i,np.ceil(n/10))==0:\n",
    "                print('%d/%d (%2.0f%s) have been read...\\t time consumed: %ds'\\\n",
    "                      %(i,n,i/n*100,'%',(datetime.now()-start).seconds))\n",
    "            if last_offset==0:\n",
    "                data[ist_id] = np.genfromtxt(path+str(ist_id)+'.csv',delimiter=',',\\\n",
    "                                         names='current,voltage',dtype=(float,float))\n",
    "            else:\n",
    "\n",
    "                p = path + str(ist_id) + \".csv\"\n",
    "                with open(p, 'rb') as f:\n",
    "                    lines = f.readlines()\n",
    "                    data[ist_id] = np.genfromtxt(lines[-last_offset:], delimiter=',',\n",
    "                                                 names='current,voltage', dtype=(float, float))\n",
    "                    f.close()\n",
    "\n",
    "\n",
    "        print('%d/%d (%2.0f%s) have been read(Done!) \\t time consumed: %ds'\\\n",
    "            %(n,n,100,'%',(datetime.now()-start).seconds))\n",
    "        return data\n",
    "\n",
    "\n",
    "def clean_meta(ist):\n",
    "    '''remove '' elements in Meta Data ''' \n",
    "    clean_ist = ist.copy()\n",
    "    for k,v in ist.items():\n",
    "#         if \n",
    "        if len(v) == 0:\n",
    "            del clean_ist[k]\n",
    "    return clean_ist\n",
    "\n",
    "\n",
    "def parse_meta(meta):\n",
    "    '''parse meta data for easy access'''\n",
    "    M = {}\n",
    "    for app in meta:\n",
    "        M[int(app)] = clean_meta(meta[app])\n",
    "    return M"
   ]
  },
  {
   "cell_type": "code",
   "execution_count": 4,
   "id": "f9985110-4bd5-4081-9142-6158c4e2fd15",
   "metadata": {
    "tags": []
   },
   "outputs": [],
   "source": [
    "import json\n",
    "\n",
    "with open(Data_path + 'metadata_submetered.json') as data_file:    \n",
    "    meta = json.load(data_file)"
   ]
  },
  {
   "cell_type": "code",
   "execution_count": 5,
   "id": "52911754-a2b7-4f52-b2fc-d03aba54a85f",
   "metadata": {
    "tags": []
   },
   "outputs": [
    {
     "data": {
      "text/plain": [
       "{'appliance': {'brand': '',\n",
       "  'current': '',\n",
       "  'load': 'R',\n",
       "  'manufacture_year': '',\n",
       "  'model_number': '',\n",
       "  'notes': '',\n",
       "  'status': 'off-on',\n",
       "  'type': 'Hairdryer',\n",
       "  'voltage': '',\n",
       "  'wattage': ''},\n",
       " 'header': {'collection_time': 'July, 2013',\n",
       "  'notes': 'some instances are not well calibrated, meta data are not complete',\n",
       "  'sampling_frequency': '30000Hz'},\n",
       " 'instances': {'length': '1.67s'},\n",
       " 'location': 'house6'}"
      ]
     },
     "execution_count": 5,
     "metadata": {},
     "output_type": "execute_result"
    }
   ],
   "source": [
    "meta['99']"
   ]
  },
  {
   "cell_type": "code",
   "execution_count": 6,
   "id": "238ef113-ea09-4fc8-b9c9-e2030f7ac82f",
   "metadata": {
    "tags": []
   },
   "outputs": [],
   "source": [
    "Meta = parse_meta(meta)"
   ]
  },
  {
   "cell_type": "code",
   "execution_count": 7,
   "id": "dd3f1975-9486-45bc-bfd5-77d54bb9b4e4",
   "metadata": {
    "tags": []
   },
   "outputs": [
    {
     "name": "stdout",
     "output_type": "stream",
     "text": [
      "['Air Conditioner', 'Blender', 'Coffee maker', 'Compact Fluorescent Lamp', 'Fan', 'Fridge', 'Hair Iron', 'Hairdryer', 'Heater', 'Incandescent Light Bulb', 'Laptop', 'Microwave', 'Soldering Iron', 'Vacuum', 'Washing Machine', 'Water kettle']\n",
      "number of total instances: 1876\n",
      "number of unique households: 56\n",
      "number of unique appliances: 279\n",
      "number of unique appliance types: 16\n"
     ]
    }
   ],
   "source": [
    "# applinace types of all instances\n",
    "Types = [x['appliance']['type'] for x in Meta.values()]\n",
    "# unique appliance types\n",
    "Unq_type = list(set(Types)) \n",
    "Unq_type.sort()\n",
    "print(Unq_type)\n",
    "\n",
    "# houses\n",
    "Houses = [x['location'] for x in Meta.values()]\n",
    "# appliances\n",
    "Apps = [x['location']+'-'+x['appliance']['type'] for x in Meta.values()]\n",
    "\n",
    "print('number of total instances: %d' % len(Types))\n",
    "print('number of unique households: %d' % len(set(Houses)))\n",
    "print('number of unique appliances: %d' % len(set(Apps)))\n",
    "print('number of unique appliance types: %d' % len(Unq_type))"
   ]
  },
  {
   "cell_type": "code",
   "execution_count": 8,
   "id": "aeb89c5c-ff97-4627-a354-890775d36559",
   "metadata": {
    "tags": []
   },
   "outputs": [
    {
     "name": "stdout",
     "output_type": "stream",
     "text": [
      "           Appliance Type\t# Appliances\t# Instances\n",
      "----------------------------------------------------------------------\n",
      "          Air Conditioner\t        18\t       204\n",
      "                  Blender\t         1\t         2\n",
      "             Coffee maker\t         1\t        10\n",
      " Compact Fluorescent Lamp\t        33\t       230\n",
      "                      Fan\t        28\t       220\n",
      "                   Fridge\t        25\t       108\n",
      "                Hair Iron\t         1\t        10\n",
      "                Hairdryer\t        34\t       246\n",
      "                   Heater\t        10\t        85\n",
      "  Incandescent Light Bulb\t        28\t       157\n",
      "                   Laptop\t        37\t       216\n",
      "                Microwave\t        31\t       200\n",
      "           Soldering Iron\t         1\t        20\n",
      "                   Vacuum\t        14\t        83\n",
      "          Washing Machine\t        16\t        75\n",
      "             Water kettle\t         1\t        10\n",
      "----------------------------------------------------------------------\n",
      "                    Total\t       279\t      1876\n"
     ]
    }
   ],
   "source": [
    "print('%25s\\t%8s\\t%8s' % ('Appliance Type', '# Appliances', '# Instances'))\n",
    "print('-'*70)\n",
    "for t in Unq_type:\n",
    "    app_ids = [i for i in Apps if t in i]\n",
    "    t_ids = [i for i,j in enumerate(Types) if j == t]\n",
    "    print('%25s\\t%10d\\t%10d' % (t,len(set(app_ids)),len(t_ids)))\n",
    "print('-'*70)\n",
    "print('%25s\\t%10d\\t%10d' % ('Total',len(set(Apps)),len(Types)))"
   ]
  },
  {
   "cell_type": "code",
   "execution_count": 9,
   "id": "3721c0fd-1276-4688-8caf-a3aa6890c5b6",
   "metadata": {
    "tags": []
   },
   "outputs": [
    {
     "name": "stdout",
     "output_type": "stream",
     "text": [
      "188/1876 (10%) have been read...\t time consumed: 2s\n",
      "376/1876 (20%) have been read...\t time consumed: 4s\n",
      "564/1876 (30%) have been read...\t time consumed: 6s\n",
      "752/1876 (40%) have been read...\t time consumed: 8s\n",
      "940/1876 (50%) have been read...\t time consumed: 10s\n",
      "1128/1876 (60%) have been read...\t time consumed: 12s\n",
      "1316/1876 (70%) have been read...\t time consumed: 15s\n",
      "1504/1876 (80%) have been read...\t time consumed: 17s\n",
      "1692/1876 (90%) have been read...\t time consumed: 19s\n",
      "1876/1876 (100%) have been read(Done!) \t time consumed: 21s\n"
     ]
    }
   ],
   "source": [
    "# read data\n",
    "# estimated time cost:  ~ 1 mins\n",
    "IDs_for_read_data = list(Meta.keys())\n",
    "\n",
    "fs = 30e3\n",
    "f0 = 60\n",
    "Ts = fs // f0\n",
    "N = 10\n",
    "\n",
    "npts = int(N * Ts)\n",
    "Data = read_data_given_id(csv_path, IDs_for_read_data, progress=True, last_offset=npts)"
   ]
  },
  {
   "cell_type": "code",
   "execution_count": 10,
   "id": "ea5f0f40-73c1-4c99-ae37-e786b2544bc5",
   "metadata": {
    "tags": []
   },
   "outputs": [],
   "source": [
    "def zero_crossings(voltage):\n",
    "    \"\"\" find the indexes of all points of zero crossings\n",
    "    \"\"\"\n",
    "    return np.where(np.diff(np.sign(voltage)))[0]\n",
    "\n",
    "def get_zero_crossing(voltage, NN=1000):\n",
    "    \"\"\" get zero crossing\n",
    "\n",
    "    \"\"\"\n",
    "    zero_crossing = zero_crossings(voltage)\n",
    "\n",
    "    if len(zero_crossing)>0:\n",
    "        if voltage[zero_crossing[0]+10] > 0:        \n",
    "            zero_crossing = zero_crossing[0:]       \n",
    "        else:                                       \n",
    "            i = 1\n",
    "            while True:\n",
    "                if voltage[zero_crossing[i]+10] > 0:\n",
    "                    zero_crossing = zero_crossing[i:]\n",
    "                    break\n",
    "                i = i + 1\n",
    "\n",
    "    else:\n",
    "        zero_crossing = None\n",
    "\n",
    "    return zero_crossing\n",
    "\n",
    "def align_IV_zero_crossing(i, v, TS):\n",
    "\n",
    "    ks = []\n",
    "    cs = []\n",
    "    current, voltage = np.copy(i), np.copy(v)\n",
    "\n",
    "    zc = get_zero_crossing(voltage, TS)\n",
    "    ks = []\n",
    "    crs = []\n",
    "    k = 0\n",
    "\n",
    "    addition = 0\n",
    "    n_c = 10\n",
    "\n",
    "    if zc[k] - zc[(k+n_c)] != (TS * 5):\n",
    "        addition = (TS * 5) - (zc[(k+n_c)] - zc[k])\n",
    "\n",
    "    voltage = voltage[zc[k]:zc[(k+n_c)] + addition]\n",
    "    current = current[zc[k]:zc[(k+n_c)] + addition]\n",
    "\n",
    "    return current, voltage"
   ]
  },
  {
   "cell_type": "code",
   "execution_count": 16,
   "id": "a1558652-9018-4b86-af26-e56a9685c1c3",
   "metadata": {
    "tags": []
   },
   "outputs": [],
   "source": [
    "def get_features(data, M=5, fs=30000, f0=60):\n",
    "\n",
    "    npts = 10000\n",
    "    NS = int(fs // f0)         # 30000 // 60 = 500\n",
    "    NP = int(npts / NS)        # number of periods for npts            # 10000 / 500 = 20\n",
    "\n",
    "    n = len(data)\n",
    "\n",
    "    rep_I = []\n",
    "    rep_V = []\n",
    "    files_id=0\n",
    "\n",
    "    with tqdm(total=n) as pbar:\n",
    "        for i in range(n):\n",
    "            ind = list(data)[i]                                         \n",
    "\n",
    "            tempI = data[ind]['current']\n",
    "            tempV = data[ind]['voltage']\n",
    "\n",
    "            tempI, tempV = align_IV_zero_crossing(tempI, tempV, NS)\n",
    "\n",
    "            rep_I.append(tempI)\n",
    "            rep_V.append(tempV)\n",
    "\n",
    "            pbar.set_description('processed: %d' % (1 + files_id))\n",
    "            pbar.update(1)\n",
    "            files_id+=1\n",
    "        pbar.close()\n",
    "\n",
    "    rep_I = np.array(rep_I)\n",
    "    rep_V = np.array(rep_V)\n",
    "    return rep_I, rep_V"
   ]
  },
  {
   "cell_type": "code",
   "execution_count": 22,
   "id": "68c8aecb-4007-4124-bee2-d36964a22c24",
   "metadata": {
    "tags": []
   },
   "outputs": [
    {
     "name": "stderr",
     "output_type": "stream",
     "text": [
      "processed: 1876: 100%|█████████████████████████████████████████████████████████████| 1876/1876 [00:01<00:00, 1030.26it/s]\n"
     ]
    }
   ],
   "source": [
    "current, voltage = get_features(Data)"
   ]
  },
  {
   "cell_type": "code",
   "execution_count": 23,
   "id": "a8801243-de07-467a-889d-b4a95bba2e26",
   "metadata": {
    "tags": []
   },
   "outputs": [],
   "source": [
    "def fryze_power_decomposition(i, v):\n",
    "\n",
    "    p = i*v\n",
    "    vrs = v**2\n",
    "    p_mean = np.mean(p, axis=-1)[:, :, None]\n",
    "    vrs_mean = np.mean(vrs, axis=-1)[:, :, None]\n",
    "    i_active = p_mean*v/vrs_mean\n",
    "    i_non_active = i - i_active\n",
    "    return i_active, i_non_active"
   ]
  },
  {
   "cell_type": "code",
   "execution_count": 25,
   "id": "38a6cd6a-67b7-4f38-9a96-90dbb5f1b93d",
   "metadata": {
    "tags": []
   },
   "outputs": [
    {
     "name": "stdout",
     "output_type": "stream",
     "text": [
      "(1876, 1, 2500) (1876, 1, 2500)\n"
     ]
    }
   ],
   "source": [
    "current = current.reshape(current.shape[0], 1, current.shape[1])\n",
    "voltage = voltage.reshape(voltage.shape[0], 1, voltage.shape[1])\n",
    "\n",
    "_, i_non_active = fryze_power_decomposition(current, voltage)\n",
    "print(i_non_active.shape, voltage.shape)"
   ]
  },
  {
   "cell_type": "code",
   "execution_count": 26,
   "id": "1bd8e7cf-5501-459b-add2-014356897d01",
   "metadata": {
    "tags": []
   },
   "outputs": [
    {
     "data": {
      "image/png": "[encoded data removed]",
      "text/plain": [
       "<Figure size 1200x600 with 3 Axes>"
      ]
     },
     "metadata": {},
     "output_type": "display_data"
    }
   ],
   "source": [
    "import matplotlib as mpl\n",
    "mpl.rcParams.update(mpl.rcParamsDefault)\n",
    "\n",
    "t = np.linspace(0, 1, 2500)\n",
    "\n",
    "idx = 88\n",
    "fig, axs = plt.subplots(3, 1, figsize=(12, 6))\n",
    "\n",
    "axs[0].plot(t, voltage[idx,0], 'b')\n",
    "axs[0].set_title('Voltage')\n",
    "axs[0].set_ylabel('Voltage (V)')\n",
    "\n",
    "axs[1].plot(t, current[idx,0], 'r')\n",
    "axs[1].set_title('Current')\n",
    "axs[1].set_xlabel('Time (s)')\n",
    "axs[1].set_ylabel('Current (A)')\n",
    "\n",
    "axs[2].plot(t, i_non_active[idx][0], 'b')\n",
    "axs[2].set_title('Non-active current (A)')\n",
    "axs[2].set_ylabel('Non-active current (A)')\n",
    "axs[2].set_xlabel('Time (s)')\n",
    "\n",
    "plt.tight_layout()\n",
    "plt.show()"
   ]
  },
  {
   "cell_type": "code",
   "execution_count": 43,
   "id": "ea60da10-69d6-4df8-a62e-c6d930dc09e4",
   "metadata": {
    "tags": []
   },
   "outputs": [],
   "source": [
    "def center(X,w):\n",
    "    minX = np.amin(X)\n",
    "    maxX = np.amax(X)\n",
    "    dist = max(abs(minX),maxX)\n",
    "    X[X<-dist] = -dist\n",
    "    X[X>dist] = dist\n",
    "    d = (maxX-minX)/(w-1)\n",
    "    return (X,d)\n",
    "\n",
    "\n",
    "def get_img_from_VI(V, I, width,hard_threshold=False,para=.5):\n",
    "    '''Get images from VI, hard_threshold, set para as threshold to cut off,5-10\n",
    "    soft_threshold, set para to .1-.5 to shrink the intensity'''\n",
    "    # center the current and voltage, get the size resolution of mesh given width\n",
    "    d = V.shape[0]\n",
    "    # doing interploation if number of points is less than width*2\n",
    "    if d<2* width:\n",
    "        newI = np.hstack([V, V[0]])\n",
    "        newV = np.hstack([I, I[0]])\n",
    "        oldt = np.linspace(0,d,d+1)\n",
    "        newt = np.linspace(0,d,2*width)\n",
    "        I = np.interp(newt,oldt,newI)\n",
    "        V = np.interp(newt,oldt,newV)\n",
    "\n",
    "    (I,d_c)  = center(I,width)\n",
    "    (V,d_v)  = center(V,width)\n",
    "\n",
    "    #  find the index where the VI goes through in current-voltage axis\n",
    "    ind_c = np.ceil((I-np.amin(I))/d_c)\n",
    "    ind_v = np.ceil((V-np.amin(V))/d_v)\n",
    "    ind_c[ind_c==width] = width-1\n",
    "    ind_v[ind_v==width] = width-1\n",
    "\n",
    "    Img = np.zeros((width, width))\n",
    "\n",
    "    for i in range(len(I)):\n",
    "        Img[int(ind_c[i]), int(width-ind_v[i]-1)] += 1\n",
    "\n",
    "    if hard_threshold:\n",
    "        Img[Img<para] = 0\n",
    "        Img[Img!=0] = 1\n",
    "        return Img\n",
    "    else:\n",
    "        return (Img/np.max(Img))**para\n",
    "\n",
    "# Combined Hue, Saturation, Value in VI trajectory\n",
    "\n",
    "# Saturation\n",
    "\n",
    "def get_HSV_VI(V, I, width, pf, H, M):\n",
    "    # center the current and voltage, get the size resolution of mesh given width\n",
    "    d = V.shape[0]\n",
    "    # doing interploation if number of points is less than width*2\n",
    "    if d<2* width:\n",
    "        newI = np.hstack([V, V[0]])\n",
    "        newV = np.hstack([I, I[0]])\n",
    "        oldt = np.linspace(0,d,d+1)\n",
    "        newt = np.linspace(0,d,2*width)\n",
    "        I = np.interp(newt,oldt,newI)\n",
    "        V = np.interp(newt,oldt,newV)\n",
    "\n",
    "    (I,d_c) = center(I,width)\n",
    "    (V,d_v) = center(V,width)\n",
    "\n",
    "    #  find the index where the VI goes through in current-voltage axis\n",
    "    ind_c = np.ceil((I-np.amin(I))/d_c)\n",
    "    ind_v = np.ceil((V-np.amin(V))/d_v)\n",
    "    ind_c[ind_c==width] = width-1\n",
    "    ind_v[ind_v==width] = width-1\n",
    "\n",
    "    Img = np.zeros((width, width))\n",
    "\n",
    "    hue = np.zeros((width, width))\n",
    "    sat = np.zeros((width, width))\n",
    "    val = np.zeros((width, width))\n",
    "\n",
    "    for i in range(len(I)):\n",
    "        Img[int(ind_c[i]), int(width-ind_v[i]-1)] += 1\n",
    "\n",
    "    # Hue\n",
    "    for i in range(len(I)-1):\n",
    "        hue[int(ind_c[i]), int(width-ind_v[i]-1)] += H[i]\n",
    "\n",
    "    hue = np.where(Img != 0, hue / Img, 0)\n",
    "\n",
    "    # Saturation\n",
    "    sat[Img<1] = 0\n",
    "    sat[Img!=0] = pf\n",
    "\n",
    "    # Value\n",
    "    for m in range(M):\n",
    "            c = I[m*500:(m+1)*500]\n",
    "            v = V[m*500:(m+1)*500]\n",
    "            val += get_img_from_VI(v, c, width, True, 0.5)\n",
    "\n",
    "    val /= 5\n",
    "\n",
    "    return np.stack([hue, sat, val], axis=0)\n",
    "\n",
    "def HSV_VI_mapping(current, current_nonactive, voltage, width=32, M=5):\n",
    "\n",
    "    n = len(voltage)\n",
    "    Imgs = np.empty((n, 3, width, width), dtype=np.float64)\n",
    "\n",
    "    with tqdm(n) as pbar:\n",
    "        for i in range(n):\n",
    "\n",
    "            ### Hue\n",
    "            J = len(voltage[i,0])\n",
    "            v_max = np.max(np.abs(voltage[i,0]))\n",
    "            i_max = np.max(np.abs(current_nonactive[i,0]))\n",
    "            H = np.zeros(J)\n",
    "            for j in range(J-1):\n",
    "                H[j] = np.arctan2((voltage[i,0,j+1] - voltage[i,0,j])/v_max, (current_nonactive[i,0,j+1] - current_nonactive[i,0,j])/i_max)\n",
    "                H[j] = np.degrees(H[j])\n",
    "                if  H[j] < 0:\n",
    "                    H[j] += 360\n",
    "\n",
    "            ### Saturation\n",
    "            # active power\n",
    "            P = np.mean(voltage[i] * current[i])\n",
    "            Vrms = np.sqrt(np.mean(voltage[i]**2))\n",
    "            Irms = np.sqrt(np.mean(current[i]**2))\n",
    "            S = Vrms * Irms\n",
    "            pf = P / S\n",
    "\n",
    "            ### Value\n",
    "            Imgs[i,:,:,:] = get_HSV_VI(voltage[i,0], current_nonactive[i,0], width, pf, H, M)\n",
    "\n",
    "            pbar.set_description('processed: %d' % (1 + i))\n",
    "            pbar.update(1)\n",
    "\n",
    "        pbar.close()\n",
    "    # vi = np.reshape(Imgs,(n, 1, width, width))       # {ndarray: (n, W, W)} -> {ndarray: (n, 3, W, W)}\n",
    "    Imgs = torch.tensor(Imgs).float()                   # {ndarray} -> {Tensor}\n",
    "    return Imgs\n"
   ]
  },
  {
   "cell_type": "code",
   "execution_count": 47,
   "id": "31688970-f7f5-4d70-bfaa-690886c71c63",
   "metadata": {
    "scrolled": true,
    "tags": []
   },
   "outputs": [
    {
     "name": "stderr",
     "output_type": "stream",
     "text": [
      "processed: 1876: : 1876it [00:17, 107.47it/s]\n"
     ]
    }
   ],
   "source": [
    "HSV_VI = HSV_VI_mapping(current, i_non_active, voltage, width=32)\n"
   ]
  },
  {
   "cell_type": "code",
   "execution_count": 49,
   "id": "c56008b4-bb16-43ae-9ad5-46e0dfe84b87",
   "metadata": {},
   "outputs": [
    {
     "data": {
      "text/plain": [
       "torch.Size([1876, 3, 32, 32])"
      ]
     },
     "execution_count": 49,
     "metadata": {},
     "output_type": "execute_result"
    }
   ],
   "source": [
    "HSV_VI.shape"
   ]
  },
  {
   "cell_type": "code",
   "execution_count": 50,
   "id": "ceae8096-4df9-4a3c-a28b-b57627b15189",
   "metadata": {
    "tags": []
   },
   "outputs": [],
   "source": [
    "# Transpose the tensor to shape (32, 32, 3)\n",
    "HSV_VI = HSV_VI.permute(0, 2, 3, 1)"
   ]
  },
  {
   "cell_type": "code",
   "execution_count": 51,
   "id": "6f62752b-31f3-4b02-9538-7e88f5f02272",
   "metadata": {
    "tags": []
   },
   "outputs": [
    {
     "data": {
      "text/plain": [
       "torch.Size([1876, 32, 32, 3])"
      ]
     },
     "execution_count": 51,
     "metadata": {},
     "output_type": "execute_result"
    }
   ],
   "source": [
    "HSV_VI.shape"
   ]
  },
  {
   "cell_type": "code",
   "execution_count": 40,
   "id": "060316fd-9af1-4f89-b10c-83a2c2e2c6f8",
   "metadata": {},
   "outputs": [
    {
     "data": {
      "text/plain": [
       "(32, 32, 3)"
      ]
     },
     "execution_count": 40,
     "metadata": {},
     "output_type": "execute_result"
    }
   ],
   "source": [
    "HSV_VI[0].shape"
   ]
  },
  {
   "cell_type": "code",
   "execution_count": null,
   "id": "6969ac94-c439-4dba-9a0d-d4ba7ea1fdff",
   "metadata": {},
   "outputs": [],
   "source": [
    "# # Convert the transposed tensor to a NumPy array\n",
    "HSV_VI = HSV_VI.numpy()"
   ]
  },
  {
   "cell_type": "code",
   "execution_count": 61,
   "id": "1291262e-2ba1-485e-a8e3-8c199d299cae",
   "metadata": {
    "tags": []
   },
   "outputs": [
    {
     "name": "stderr",
     "output_type": "stream",
     "text": [
      "Clipping input data to the valid range for imshow with RGB data ([0..1] for floats or [0..255] for integers).\n"
     ]
    },
    {
     "data": {
      "image/png": "[encoded data removed]",
      "text/plain": [
       "<Figure size 640x480 with 1 Axes>"
      ]
     },
     "metadata": {},
     "output_type": "display_data"
    }
   ],
   "source": [
    "# # Convert the transposed tensor to a NumPy array\n",
    "index = 354\n",
    "\n",
    "# Conver to RGB\n",
    "rgb_image = cv2.cvtColor(HSV_VI[index], cv2.COLOR_HSV2RGB)\n",
    "rgb_image[(rgb_image == [0, 0, 0]).all(axis=2)] = [255, 255, 255]\n",
    "plt.imshow(rgb_image)\n",
    "plt.title(f'HSV Color Space VI Trajectory:{Types[index]}')\n",
    "# Draw 31 horizontal and vertical grid lines\n",
    "for i in range(1, 32):\n",
    "    plt.axhline(i - 0.5, color='gray', linestyle='-', linewidth=0.5)\n",
    "    plt.axvline(i - 0.5, color='gray', linestyle='-', linewidth=0.5)\n",
    "\n",
    "# Set the ticks to the positions of the grid lines\n",
    "plt.xticks([0, 8, 16, 24, 32], [0, 8, 16, 24, 32])\n",
    "plt.yticks([0, 8, 16, 24, 32], [0, 8, 16, 24, 32])\n",
    "# Set limits to ensure the ticks appear correctly\n",
    "plt.xlim(-0.5, 31.5)\n",
    "plt.ylim(31.5, -0.5)\n",
    "\n",
    "plt.show()"
   ]
  },
  {
   "cell_type": "code",
   "execution_count": null,
   "id": "4c54c2f6-4ab7-4bfa-8913-c1e172687757",
   "metadata": {},
   "outputs": [],
   "source": []
  }
 ],
 "metadata": {
  "kernelspec": {
   "display_name": "Python 3 (ipykernel)",
   "language": "python",
   "name": "python3"
  },
  "language_info": {
   "codemirror_mode": {
    "name": "ipython",
    "version": 3
   },
   "file_extension": ".py",
   "mimetype": "text/x-python",
   "name": "python",
   "nbconvert_exporter": "python",
   "pygments_lexer": "ipython3",
   "version": "3.10.0"
  }
 },
 "nbformat": 4,
 "nbformat_minor": 5
}
